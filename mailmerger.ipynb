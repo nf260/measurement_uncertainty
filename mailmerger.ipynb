{
 "cells": [
  {
   "cell_type": "markdown",
   "metadata": {},
   "source": [
    "# Imports"
   ]
  },
  {
   "cell_type": "code",
   "execution_count": 1,
   "metadata": {},
   "outputs": [],
   "source": [
    "from mailmerge import MailMerge"
   ]
  },
  {
   "cell_type": "code",
   "execution_count": 2,
   "metadata": {},
   "outputs": [],
   "source": [
    "import pandas as pd\n",
    "from collections import OrderedDict"
   ]
  },
  {
   "cell_type": "markdown",
   "metadata": {},
   "source": [
    "# Read CSV file"
   ]
  },
  {
   "cell_type": "code",
   "execution_count": 3,
   "metadata": {},
   "outputs": [],
   "source": [
    "df = pd.read_csv('documents\\mailmerge.csv', encoding = \"ISO-8859-1\")"
   ]
  },
  {
   "cell_type": "code",
   "execution_count": 10,
   "metadata": {},
   "outputs": [
    {
     "data": {
      "text/html": [
       "<div>\n",
       "<style scoped>\n",
       "    .dataframe tbody tr th:only-of-type {\n",
       "        vertical-align: middle;\n",
       "    }\n",
       "\n",
       "    .dataframe tbody tr th {\n",
       "        vertical-align: top;\n",
       "    }\n",
       "\n",
       "    .dataframe thead th {\n",
       "        text-align: right;\n",
       "    }\n",
       "</style>\n",
       "<table border=\"1\" class=\"dataframe\">\n",
       "  <thead>\n",
       "    <tr style=\"text-align: right;\">\n",
       "      <th></th>\n",
       "      <th>mu_doc_no</th>\n",
       "      <th>mu_doc_name</th>\n",
       "      <th>assay_name</th>\n",
       "      <th>assay_sop_doc_no</th>\n",
       "      <th>assay_sop_name</th>\n",
       "      <th>measurand</th>\n",
       "      <th>fishbone_image</th>\n",
       "      <th>qc_start_date</th>\n",
       "      <th>qc_end_date</th>\n",
       "    </tr>\n",
       "  </thead>\n",
       "  <tbody>\n",
       "    <tr>\n",
       "      <th>0</th>\n",
       "      <td>ADD.BIO 6942</td>\n",
       "      <td>Estimate of measurement uncertainty - Urine 5-...</td>\n",
       "      <td>5-hydroxyindoleacetic acid (Urine)</td>\n",
       "      <td>ADD.BIO 6754</td>\n",
       "      <td>Urine 5-hydroxyindole acetic acid analysis</td>\n",
       "      <td>amount-of-substance concentration of 5-hydroxy...</td>\n",
       "      <td>5HIAA.jpg</td>\n",
       "      <td>1st January 2020</td>\n",
       "      <td>31st December 2020</td>\n",
       "    </tr>\n",
       "    <tr>\n",
       "      <th>1</th>\n",
       "      <td>ADD.BIO 6902</td>\n",
       "      <td>Estimate of measurement uncertainty - Blood sp...</td>\n",
       "      <td>Acylcarnitines (Blood spot)</td>\n",
       "      <td>ADD.BIO 33971</td>\n",
       "      <td>Blood Spot Acylcarnitine Analysis</td>\n",
       "      <td>multiple</td>\n",
       "      <td>ACYL</td>\n",
       "      <td>1st January 2020</td>\n",
       "      <td>31st December 2020</td>\n",
       "    </tr>\n",
       "    <tr>\n",
       "      <th>2</th>\n",
       "      <td>ADD.BIO 6941</td>\n",
       "      <td>Estimate of measurement uncertainty - Amino ac...</td>\n",
       "      <td>Amino acids (CSF)</td>\n",
       "      <td>ADD.BIO 33965</td>\n",
       "      <td>Plasma, urine &amp; CSF amino acid analysis</td>\n",
       "      <td>multiple</td>\n",
       "      <td>AA</td>\n",
       "      <td>1st January 2020</td>\n",
       "      <td>31st December 2020</td>\n",
       "    </tr>\n",
       "    <tr>\n",
       "      <th>3</th>\n",
       "      <td>ADD.BIO 6935</td>\n",
       "      <td>Estimate of measurement uncertainty - Amino ac...</td>\n",
       "      <td>Amino acids (Plasma)</td>\n",
       "      <td>ADD.BIO 33965</td>\n",
       "      <td>Plasma, urine &amp; CSF amino acid analysis</td>\n",
       "      <td>multiple</td>\n",
       "      <td>AA</td>\n",
       "      <td>1st January 2020</td>\n",
       "      <td>31st December 2020</td>\n",
       "    </tr>\n",
       "    <tr>\n",
       "      <th>4</th>\n",
       "      <td>ADD.BIO 6956</td>\n",
       "      <td>Estimate of measurement uncertainty - Amino ac...</td>\n",
       "      <td>Amino acids (Urine)</td>\n",
       "      <td>ADD.BIO 33965</td>\n",
       "      <td>Plasma, urine &amp; CSF amino acid analysis</td>\n",
       "      <td>multiple</td>\n",
       "      <td>AA</td>\n",
       "      <td>1st January 2020</td>\n",
       "      <td>31st December 2020</td>\n",
       "    </tr>\n",
       "  </tbody>\n",
       "</table>\n",
       "</div>"
      ],
      "text/plain": [
       "      mu_doc_no                                        mu_doc_name  \\\n",
       "0  ADD.BIO 6942  Estimate of measurement uncertainty - Urine 5-...   \n",
       "1  ADD.BIO 6902  Estimate of measurement uncertainty - Blood sp...   \n",
       "2  ADD.BIO 6941  Estimate of measurement uncertainty - Amino ac...   \n",
       "3  ADD.BIO 6935  Estimate of measurement uncertainty - Amino ac...   \n",
       "4  ADD.BIO 6956  Estimate of measurement uncertainty - Amino ac...   \n",
       "\n",
       "                           assay_name assay_sop_doc_no  \\\n",
       "0  5-hydroxyindoleacetic acid (Urine)     ADD.BIO 6754   \n",
       "1         Acylcarnitines (Blood spot)    ADD.BIO 33971   \n",
       "2                   Amino acids (CSF)    ADD.BIO 33965   \n",
       "3                Amino acids (Plasma)    ADD.BIO 33965   \n",
       "4                 Amino acids (Urine)    ADD.BIO 33965   \n",
       "\n",
       "                               assay_sop_name  \\\n",
       "0  Urine 5-hydroxyindole acetic acid analysis   \n",
       "1           Blood Spot Acylcarnitine Analysis   \n",
       "2     Plasma, urine & CSF amino acid analysis   \n",
       "3     Plasma, urine & CSF amino acid analysis   \n",
       "4     Plasma, urine & CSF amino acid analysis   \n",
       "\n",
       "                                           measurand fishbone_image  \\\n",
       "0  amount-of-substance concentration of 5-hydroxy...      5HIAA.jpg   \n",
       "1                                           multiple           ACYL   \n",
       "2                                           multiple             AA   \n",
       "3                                           multiple             AA   \n",
       "4                                           multiple             AA   \n",
       "\n",
       "      qc_start_date         qc_end_date  \n",
       "0  1st January 2020  31st December 2020  \n",
       "1  1st January 2020  31st December 2020  \n",
       "2  1st January 2020  31st December 2020  \n",
       "3  1st January 2020  31st December 2020  \n",
       "4  1st January 2020  31st December 2020  "
      ]
     },
     "execution_count": 10,
     "metadata": {},
     "output_type": "execute_result"
    }
   ],
   "source": [
    "df.head()"
   ]
  },
  {
   "cell_type": "code",
   "execution_count": 8,
   "metadata": {},
   "outputs": [],
   "source": [
    "def mailmerge(df):\n",
    "    input_file = df.to_dict(into=OrderedDict, orient='records')\n",
    "\n",
    "    for row in input_file:\n",
    "        \n",
    "        template = 'documents\\measurement_uncertainty_template.docx'\n",
    "        document = MailMerge(template)\n",
    "        \n",
    "        ## Enter measurement uncertainty document no and name\n",
    "        document.merge(mu_doc_no=row['mu_doc_no'])\n",
    "        document.merge(mu_doc_name=row['mu_doc_name'])\n",
    "        document.merge(assay_name=row['assay_name'])\n",
    "        \n",
    "        ## Enter assay SOP document no and name\n",
    "        document.merge(assay_sop_doc_no=row['assay_sop_doc_no'])\n",
    "        document.merge(assay_sop_name=row['assay_sop_name'])        \n",
    "        \n",
    "        ## Enter measurand\n",
    "        if row['measurand'] != 'multiple':\n",
    "            meas = 'The measurand is the ' + row['measurand']\n",
    "        else:\n",
    "            meas = 'The measurands for the procedure are described in the following table:'\n",
    "        \n",
    "        document.merge(measurand=meas)\n",
    "        \n",
    "        # Insert QC start and end dates\n",
    "        document.merge(qc_start_date=row['qc_start_date'])\n",
    "        document.merge(qc_end_date=row['qc_end_date'])\n",
    "        \n",
    "        ## Define word document name and save\n",
    "        document_name = str(row['mu_doc_name'])\n",
    "        print(\"Saving... \" + document_name)\n",
    "        document.write(document_name + '.docx')"
   ]
  },
  {
   "cell_type": "code",
   "execution_count": 9,
   "metadata": {},
   "outputs": [
    {
     "name": "stdout",
     "output_type": "stream",
     "text": [
      "Saving... Estimate of measurement uncertainty - Urine 5-hydroxyindole acetic acid\n",
      "Saving... Estimate of measurement uncertainty - Blood spot acylcarnitine analysis\n",
      "Saving... Estimate of measurement uncertainty - Amino acids (CSF)\n",
      "Saving... Estimate of measurement uncertainty - Amino acids (plasma)\n",
      "Saving... Estimate of measurement uncertainty - Amino acids (urine)\n",
      "Saving... Estimate of measurement uncertainty - Plasma biotinidase activity\n",
      "Saving... Estimate of measurement uncertainty - Plasma chitotriosidase\n",
      "Saving... Estimate of measurement uncertainty - Sweat chloride\n",
      "Saving... Estimate of measurement uncertainty - Creatine, Creatinine and Guanidinoacetate Analysis\n",
      "Saving... Estimate of measurement uncertainty - Urine Glycosaminoglycans (Quantitative)\n",
      "Saving... Estimate of measurement uncertainty - Blood spot immunoreactive trypsinogen\n",
      "Saving... Estimate of measurement uncertainty - Whole blood immunosuppressant drugs\n",
      "Saving... Estimate of measurement uncertainty - Urine metanephrines\n",
      "Saving... Estimate of measurement uncertainty - Newborn Screening for inherited metabolic disorders\n",
      "Saving... Estimate of measurement uncertainty - Newborn screening for sickle cell disorders\n",
      "Saving... Estimate of measurement uncertainty - Urine methylmalonate and orotate\n",
      "Saving... Estimate of measurement uncertainty - Urine porphobilinogen\n",
      "Saving... Estimate of measurement uncertainty - Urine Sulfocysteine\n",
      "Saving... Estimate of measurement uncertainty - Blood spot thyroid stimulating hormone\n",
      "Saving... Estimate of measurement uncertainty - Plasma total homocysteine and methionine analysis\n",
      "Saving... Estimate of measurement uncertainty - Very Long Chain Fatty Acid Analysis \n",
      "Saving... Estimate of measurement uncertainty - Urine homovanillic acid and vanillylmandelic acid analysis\n"
     ]
    }
   ],
   "source": [
    "mailmerge(df)"
   ]
  },
  {
   "cell_type": "code",
   "execution_count": null,
   "metadata": {},
   "outputs": [],
   "source": []
  }
 ],
 "metadata": {
  "kernelspec": {
   "display_name": "Python 3",
   "language": "python",
   "name": "python3"
  },
  "language_info": {
   "codemirror_mode": {
    "name": "ipython",
    "version": 3
   },
   "file_extension": ".py",
   "mimetype": "text/x-python",
   "name": "python",
   "nbconvert_exporter": "python",
   "pygments_lexer": "ipython3",
   "version": "3.8.5"
  }
 },
 "nbformat": 4,
 "nbformat_minor": 4
}
