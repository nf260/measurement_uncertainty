{
 "cells": [
  {
   "cell_type": "markdown",
   "metadata": {},
   "source": [
    "# Measurement uncertainty calculations"
   ]
  },
  {
   "cell_type": "markdown",
   "metadata": {},
   "source": [
    "# Introduction"
   ]
  },
  {
   "cell_type": "markdown",
   "metadata": {},
   "source": [
    "### Definitions\n",
    "**Measurement uncertainty** is defined in the ISO ‘Guide to the Expression of Uncertainty in Measurement’ as ‘a parameter, associated with the result of a measurement that characterises the dispersion of the values that  could  reasonably  be  attributed  to  the  measurand’.  The  **measurand**  is  the  ‘quantity  intended  to  be measured’.\n",
    "\n",
    "### Purpose\n",
    "An estimate  of  uncertainty  provides  a  quantitative  indication  of  the  quality  of  a  measurement  result. Rather than using a ‘bottom-up’ approach which examines the inputs to a method and considers how they might influence results, the biochemical genetics units uses a ‘top-down’ approach using the information from method outputs (e.g. the observed variability of replicate measurement results), as described in ADD.BIO 6680: Estimating measurement uncertainty in the biochemical genetics unit. This notebook attempts to outline these steps."
   ]
  },
  {
   "cell_type": "markdown",
   "metadata": {},
   "source": [
    "## Imports, configuration"
   ]
  },
  {
   "cell_type": "code",
   "execution_count": 2,
   "metadata": {},
   "outputs": [],
   "source": [
    "import os\n",
    "import numpy as np\n",
    "import pandas as pd\n",
    "import matplotlib.pyplot as plt\n",
    "import seaborn as sns"
   ]
  },
  {
   "cell_type": "markdown",
   "metadata": {},
   "source": [
    "Since some columns have long names, change the maximum column width in Pandas so we can see the full name."
   ]
  },
  {
   "cell_type": "code",
   "execution_count": 3,
   "metadata": {
    "scrolled": true
   },
   "outputs": [
    {
     "name": "stderr",
     "output_type": "stream",
     "text": [
      "C:\\Users\\nickf\\Anaconda3\\lib\\site-packages\\ipykernel_launcher.py:1: FutureWarning: Passing a negative integer is deprecated in version 1.0 and will not be supported in future version. Instead, use None to not limit the column width.\n",
      "  \"\"\"Entry point for launching an IPython kernel.\n"
     ]
    }
   ],
   "source": [
    "pd.set_option('display.max_colwidth', -1)"
   ]
  },
  {
   "cell_type": "markdown",
   "metadata": {},
   "source": [
    "## Import mappings"
   ]
  },
  {
   "cell_type": "markdown",
   "metadata": {},
   "source": [
    "The mappings file contains:\n",
    "* mappings to link the Assay and Measurand to the name of the QC material in [Randox Acusera 24:7](https://qc.randox.com/Acusera#Home)\n",
    "* the lower and upper limit of quantitation, as described in the assay SOP. If the lower or upper limits are not specified in the SOP, these are given as 0 and 9999999 respectively. If more than one limit is provided (for example, different limits for different instruments), then the lower lower limit or higher upper limit was used."
   ]
  },
  {
   "cell_type": "code",
   "execution_count": null,
   "metadata": {
    "scrolled": true
   },
   "outputs": [],
   "source": [
    "mappings = pd.read_csv('data\\\\raw_data\\\\mappings.csv')\n",
    "mappings.head()"
   ]
  },
  {
   "cell_type": "markdown",
   "metadata": {},
   "source": [
    "# Obtain an estimate of the precision of the measurement procedure"
   ]
  },
  {
   "cell_type": "markdown",
   "metadata": {},
   "source": [
    "## Import measurement uncertainty report from Randox Acusera 24:7"
   ]
  },
  {
   "cell_type": "markdown",
   "metadata": {},
   "source": [
    "The measurement uncertainty report contains stiastics on each lot number in Randox Acusera. Data points that have been rejected are not included in the analysis.\n",
    "\n",
    "when importing the data, exclude QC lots where the measurand concentration is outside the reportable range"
   ]
  },
  {
   "cell_type": "code",
   "execution_count": null,
   "metadata": {},
   "outputs": [],
   "source": [
    "def import_randox(filename, mappings):\n",
    "    '''\n",
    "    Imports measurement uncertainty excel file from Randox Acusera, then\n",
    "    maps these to the Assay and Measurands via the Mappings file\n",
    "    \n",
    "    Drops any statistics for QCs that are below the limit of quantitation\n",
    "    (if defined in the mappings file)\n",
    "    '''\n",
    "    randoxMU = pd.read_excel(filename)\n",
    "    randoxMU = randoxMU.rename(columns={'Assay':'Randox'})\n",
    "    randoxMU = randoxMU.drop(columns=['Intra','Inter','ExpandedUOM'])\n",
    "    randoxMU = randoxMU.sort_values(by=['Randox','Mean'])\n",
    "    \n",
    "\n",
    "    \n",
    "    ## Calculate the percentage CV\n",
    "    randoxMU['% CV'] = round(randoxMU['UOM']/randoxMU['Mean'] * 100,1)\n",
    "    \n",
    "    ## Urine, Plasma and CSF QCs are all stored in Randox under the same name.\n",
    "    ## Add an extra note in the Randox column for urine QC to distinguish these,\n",
    "    ## identified by the lot number starting with \"AAU\"\n",
    "    randoxMU['Randox'][randoxMU['Lot Name'].str[:3] == 'AAU'] = randoxMU['Randox'].astype(str) + ' (Urine)'\n",
    "    \n",
    "    ## Read the mappings csv file and join this with the QC data to show the Assay and Measurand name, and import LoQ\n",
    "    mappings = pd.read_csv(mappings)\n",
    "    qc_data = mappings.merge(right=randoxMU,on='Randox',how='inner')\n",
    "    \n",
    "    ## Drop any QC values that are outside the reportable interval\n",
    "    qc_data = qc_data.query('Mean >= reportable_range_lower')\n",
    "    qc_data = qc_data.query('Mean <= reportable_range_upper')\n",
    "    \n",
    "    return qc_data"
   ]
  },
  {
   "cell_type": "code",
   "execution_count": null,
   "metadata": {
    "scrolled": true
   },
   "outputs": [],
   "source": [
    "qc_data = import_randox(\"data\\\\raw_data\\\\Uncertainty of Measurement.xlsx\"\n",
    "                        ,\"data\\\\raw_data\\\\mappings.csv\")"
   ]
  },
  {
   "cell_type": "code",
   "execution_count": null,
   "metadata": {},
   "outputs": [],
   "source": [
    "qc_data.head()"
   ]
  },
  {
   "cell_type": "markdown",
   "metadata": {},
   "source": [
    "## Obtain an estimate of the precision of the measurement procedure"
   ]
  },
  {
   "cell_type": "markdown",
   "metadata": {},
   "source": [
    "The measurement uncertainty report from Randox needs to be processed to:\n",
    "* exclude QC lots where the measurand concentration is outside the reportable range (done above when importing the data)\n",
    "* exclude QC lots with low counts\n",
    "* calculate averages for each measurand\n",
    "* present the data by assay in a useful format\n",
    "\n",
    "First,  create a summary for each lot number that shows some basic statistics by pivoting existing data and removing lots with low counts."
   ]
  },
  {
   "cell_type": "code",
   "execution_count": null,
   "metadata": {},
   "outputs": [],
   "source": [
    "def qc_lot_summary(qc_data, assay, count_thresh=1):\n",
    "    '''\n",
    "    Returns a dataframe containing lot number statistics for the assay QC data\n",
    "    Excludes any statistics with fewer than count_thresh values\n",
    "    '''\n",
    "    ## Define the order in which columns should appear\n",
    "    column_order = ['Count','Mean','UOM','% CV']\n",
    "    \n",
    "    ## Filter the main qc data file for only the assay we are interested in, and drop unnecessary columns\n",
    "    assay_qc_data = qc_data[qc_data['Assay'] == assay].drop(columns=['Assay','Randox'])\n",
    "    \n",
    "    ## Drop any QC values where there are fewer than count_thresh datapoints\n",
    "    assay_qc_data = assay_qc_data[assay_qc_data['Count'] >= count_thresh]\n",
    "    \n",
    "    ## Round the data to 2 decimal places\n",
    "    assay_qc_data = assay_qc_data.round(2)\n",
    "    \n",
    "    ## Pivot the data and reorder levels\n",
    "    assay_qc_pivot = assay_qc_data.pivot(index='Measurand', values=column_order, columns=['Lot Name','Instrument'])\n",
    "    assay_qc_pivot = assay_qc_pivot.swaplevel(0,2, axis=1).sort_index(axis=1)\n",
    "\n",
    "    ## Reorder columns and fill blanks\n",
    "    assay_qc_pivot = assay_qc_pivot.reindex(column_order, level=2, axis=1)\n",
    "    assay_qc_pivot = assay_qc_pivot.fillna('')\n",
    "    \n",
    "    return assay_qc_pivot"
   ]
  },
  {
   "cell_type": "code",
   "execution_count": null,
   "metadata": {
    "scrolled": false
   },
   "outputs": [],
   "source": [
    "qc_lot_summary(qc_data,'Organic acids', 10)"
   ]
  },
  {
   "cell_type": "markdown",
   "metadata": {},
   "source": [
    "Next, we aggregate the data over all lots numbers and instruments (excluding those whe the count is less than the count threshold) by summing the total counts and averaging the measurement uncertainty and %CV."
   ]
  },
  {
   "cell_type": "code",
   "execution_count": null,
   "metadata": {},
   "outputs": [],
   "source": [
    "def qc_aggregated(qc_data, assay, count_thresh=1):\n",
    "    '''\n",
    "    Returns total number of QC datapoints for each analyte and average of each lot number measurement uncertainty and %CV\n",
    "    Excludes any statistics with fewer than count_thresh values\n",
    "    '''\n",
    "    filtered = qc_data[qc_data['Assay'] == assay].drop(columns=['Assay','Randox'])\n",
    "    filtered = filtered[filtered['Count'] >= count_thresh]\n",
    "    aggregated = filtered.groupby('Measurand').agg({'Count':'sum',\n",
    "                                              'UOM':'mean',\n",
    "                                              '% CV':'mean'})\n",
    "    return aggregated.round(2)"
   ]
  },
  {
   "cell_type": "code",
   "execution_count": null,
   "metadata": {
    "scrolled": true
   },
   "outputs": [],
   "source": [
    "qc_aggregated(qc_data,'Organic acids',10)"
   ]
  },
  {
   "cell_type": "markdown",
   "metadata": {},
   "source": [
    "We can then combine the lot statistics and aggregated statistics.\n",
    "\n",
    "Previously, this has been only done if the %CV are similar for each lot. However, for simplicity, average across all lots, regardless of differences in imprecision at different concentrations"
   ]
  },
  {
   "cell_type": "code",
   "execution_count": null,
   "metadata": {},
   "outputs": [],
   "source": [
    "def qc_lot_summary_with_means(qc_data, assay, count_thresh=1):\n",
    "    '''\n",
    "    Returns a dataframe containing both lot number statistics and aggregated statistics\n",
    "    Excludes any statistics with fewer than count_thresh values\n",
    "    '''\n",
    "    assay_qc_pivot = qc_lot_summary(qc_data, assay, count_thresh)\n",
    "    aggregated = qc_aggregated(qc_data, assay, count_thresh)\n",
    "    \n",
    "    assay_qc_pivot[('All instrument','All lots','Count')] = aggregated['Count']\n",
    "    assay_qc_pivot[('All instrument','All lots','UOM')] = aggregated['UOM']\n",
    "    assay_qc_pivot[('All instrument','All lots','% CV')] = aggregated['% CV']\n",
    "    \n",
    "    return assay_qc_pivot.round(2)"
   ]
  },
  {
   "cell_type": "code",
   "execution_count": null,
   "metadata": {
    "scrolled": true
   },
   "outputs": [],
   "source": [
    "qc_lot_summary_with_means(qc_data, 'Amino acids (Plasma)', 10)"
   ]
  },
  {
   "cell_type": "markdown",
   "metadata": {},
   "source": [
    "Note: for the acylcarnitines assay, some measurands have data for one QC lot, and some measurands do not appear at all. This is because the measurand is present at less than the limit of quantitation"
   ]
  },
  {
   "cell_type": "code",
   "execution_count": null,
   "metadata": {
    "scrolled": true
   },
   "outputs": [],
   "source": [
    "qc_lot_summary_with_means(qc_data, 'Acylcarnitines (Blood spot)', 10)"
   ]
  },
  {
   "cell_type": "markdown",
   "metadata": {},
   "source": [
    "We can export the data for all assays as seperate .csv files which are saved in the \\data\\processed\\qc_summary_tables folder"
   ]
  },
  {
   "cell_type": "code",
   "execution_count": null,
   "metadata": {},
   "outputs": [],
   "source": [
    "def assay_qc_data_export(df, count_thresh):\n",
    "    '''\n",
    "    Createsa a qc summary table for each assay (excluding any statistics\n",
    "    with fewer than count_thresh value per lot number / instrument.\n",
    "    \n",
    "    Exports each table to a .csv file in the processed data folder\n",
    "    '''\n",
    "    for assay in df['Assay'].unique():\n",
    "        try:\n",
    "            filepath = os.path.abspath('') + '\\\\data\\\\processed\\\\qc_summary_tables\\\\' + assay + '.csv'\n",
    "            table = qc_lot_summary_with_means(df, assay, count_thresh)\n",
    "            table.to_csv(filepath)\n",
    "            print(f'{assay} succesfully exported')\n",
    "        except:\n",
    "            print(f'!!! Error in exporting data for {assay}')"
   ]
  },
  {
   "cell_type": "code",
   "execution_count": null,
   "metadata": {
    "scrolled": true
   },
   "outputs": [],
   "source": [
    "assay_qc_data_export(qc_data,10)"
   ]
  },
  {
   "cell_type": "markdown",
   "metadata": {},
   "source": [
    "# Obtain an estimate of the measurement bias and its uncertainty"
   ]
  },
  {
   "cell_type": "markdown",
   "metadata": {},
   "source": [
    "Measurement bias and its uncertainty can be estimnated from the regular participation in external quality assessment (EQA).\n",
    "\n",
    "Import EQA results from a csv file (UKNEQAS results can be obtained using EQA data scraper)"
   ]
  },
  {
   "cell_type": "code",
   "execution_count": 4,
   "metadata": {
    "scrolled": true
   },
   "outputs": [],
   "source": [
    "eqa_results = pd.read_csv('data\\\\raw_data\\\\eqa_results.csv')"
   ]
  },
  {
   "cell_type": "code",
   "execution_count": 5,
   "metadata": {
    "scrolled": true
   },
   "outputs": [
    {
     "data": {
      "text/html": [
       "<div>\n",
       "<style scoped>\n",
       "    .dataframe tbody tr th:only-of-type {\n",
       "        vertical-align: middle;\n",
       "    }\n",
       "\n",
       "    .dataframe tbody tr th {\n",
       "        vertical-align: top;\n",
       "    }\n",
       "\n",
       "    .dataframe thead th {\n",
       "        text-align: right;\n",
       "    }\n",
       "</style>\n",
       "<table border=\"1\" class=\"dataframe\">\n",
       "  <thead>\n",
       "    <tr style=\"text-align: right;\">\n",
       "      <th></th>\n",
       "      <th>Analyte</th>\n",
       "      <th>Specimen</th>\n",
       "      <th>Pool</th>\n",
       "      <th>Result</th>\n",
       "      <th>Targ</th>\n",
       "      <th>Scheme name</th>\n",
       "    </tr>\n",
       "  </thead>\n",
       "  <tbody>\n",
       "    <tr>\n",
       "      <th>0</th>\n",
       "      <td>Phenylalanine</td>\n",
       "      <td>209A</td>\n",
       "      <td>273</td>\n",
       "      <td>137</td>\n",
       "      <td>142.1</td>\n",
       "      <td>Quantitative Amino Acids</td>\n",
       "    </tr>\n",
       "    <tr>\n",
       "      <th>1</th>\n",
       "      <td>Phenylalanine</td>\n",
       "      <td>209B</td>\n",
       "      <td>274</td>\n",
       "      <td>1373</td>\n",
       "      <td>1314.0</td>\n",
       "      <td>Quantitative Amino Acids</td>\n",
       "    </tr>\n",
       "    <tr>\n",
       "      <th>2</th>\n",
       "      <td>Phenylalanine</td>\n",
       "      <td>209C</td>\n",
       "      <td>275</td>\n",
       "      <td>960</td>\n",
       "      <td>911.3</td>\n",
       "      <td>Quantitative Amino Acids</td>\n",
       "    </tr>\n",
       "    <tr>\n",
       "      <th>3</th>\n",
       "      <td>Tyrosine</td>\n",
       "      <td>209A</td>\n",
       "      <td>273</td>\n",
       "      <td>99</td>\n",
       "      <td>101.8</td>\n",
       "      <td>Quantitative Amino Acids</td>\n",
       "    </tr>\n",
       "    <tr>\n",
       "      <th>4</th>\n",
       "      <td>Tyrosine</td>\n",
       "      <td>209B</td>\n",
       "      <td>274</td>\n",
       "      <td>202</td>\n",
       "      <td>197.7</td>\n",
       "      <td>Quantitative Amino Acids</td>\n",
       "    </tr>\n",
       "  </tbody>\n",
       "</table>\n",
       "</div>"
      ],
      "text/plain": [
       "         Analyte Specimen Pool Result    Targ               Scheme name\n",
       "0  Phenylalanine  209A     273  137    142.1   Quantitative Amino Acids\n",
       "1  Phenylalanine  209B     274  1373   1314.0  Quantitative Amino Acids\n",
       "2  Phenylalanine  209C     275  960    911.3   Quantitative Amino Acids\n",
       "3  Tyrosine       209A     273  99     101.8   Quantitative Amino Acids\n",
       "4  Tyrosine       209B     274  202    197.7   Quantitative Amino Acids"
      ]
     },
     "execution_count": 5,
     "metadata": {},
     "output_type": "execute_result"
    }
   ],
   "source": [
    "eqa_results.head()"
   ]
  },
  {
   "cell_type": "markdown",
   "metadata": {},
   "source": [
    "## Plot bias against Target values"
   ]
  },
  {
   "cell_type": "markdown",
   "metadata": {},
   "source": [
    "The EQA data does not contain the specimen bias. We can calculate this from the result and target value (after excluding non-numeric results and target values)"
   ]
  },
  {
   "cell_type": "code",
   "execution_count": 6,
   "metadata": {},
   "outputs": [],
   "source": [
    "def eqa_bias(df):\n",
    "    # Remove rows with non-numeric result or target values\n",
    "    # https://stackoverflow.com/questions/21771133/finding-non-numeric-rows-in-dataframe-in-pandas/44178063\n",
    "    data_columns = ['Result','Targ']\n",
    "    num_df = (df.drop(data_columns, axis=1)\n",
    "         .join(df[data_columns].apply(pd.to_numeric, errors='coerce')))\n",
    "\n",
    "    num_df = num_df[num_df[data_columns].notnull().all(axis=1)]\n",
    "    \n",
    "    ##Calculate percentage bias\n",
    "    num_df['% Bias'] = round(100*(num_df['Result'] - num_df['Targ'])/num_df['Targ'],1)\n",
    "    return num_df"
   ]
  },
  {
   "cell_type": "code",
   "execution_count": 7,
   "metadata": {},
   "outputs": [
    {
     "data": {
      "text/html": [
       "<div>\n",
       "<style scoped>\n",
       "    .dataframe tbody tr th:only-of-type {\n",
       "        vertical-align: middle;\n",
       "    }\n",
       "\n",
       "    .dataframe tbody tr th {\n",
       "        vertical-align: top;\n",
       "    }\n",
       "\n",
       "    .dataframe thead th {\n",
       "        text-align: right;\n",
       "    }\n",
       "</style>\n",
       "<table border=\"1\" class=\"dataframe\">\n",
       "  <thead>\n",
       "    <tr style=\"text-align: right;\">\n",
       "      <th></th>\n",
       "      <th>Analyte</th>\n",
       "      <th>Specimen</th>\n",
       "      <th>Pool</th>\n",
       "      <th>Scheme name</th>\n",
       "      <th>Result</th>\n",
       "      <th>Targ</th>\n",
       "      <th>% Bias</th>\n",
       "    </tr>\n",
       "  </thead>\n",
       "  <tbody>\n",
       "    <tr>\n",
       "      <th>0</th>\n",
       "      <td>Phenylalanine</td>\n",
       "      <td>209A</td>\n",
       "      <td>273</td>\n",
       "      <td>Quantitative Amino Acids</td>\n",
       "      <td>137.0</td>\n",
       "      <td>142.1</td>\n",
       "      <td>-3.6</td>\n",
       "    </tr>\n",
       "    <tr>\n",
       "      <th>1</th>\n",
       "      <td>Phenylalanine</td>\n",
       "      <td>209B</td>\n",
       "      <td>274</td>\n",
       "      <td>Quantitative Amino Acids</td>\n",
       "      <td>1373.0</td>\n",
       "      <td>1314.0</td>\n",
       "      <td>4.5</td>\n",
       "    </tr>\n",
       "    <tr>\n",
       "      <th>2</th>\n",
       "      <td>Phenylalanine</td>\n",
       "      <td>209C</td>\n",
       "      <td>275</td>\n",
       "      <td>Quantitative Amino Acids</td>\n",
       "      <td>960.0</td>\n",
       "      <td>911.3</td>\n",
       "      <td>5.3</td>\n",
       "    </tr>\n",
       "    <tr>\n",
       "      <th>3</th>\n",
       "      <td>Tyrosine</td>\n",
       "      <td>209A</td>\n",
       "      <td>273</td>\n",
       "      <td>Quantitative Amino Acids</td>\n",
       "      <td>99.0</td>\n",
       "      <td>101.8</td>\n",
       "      <td>-2.8</td>\n",
       "    </tr>\n",
       "    <tr>\n",
       "      <th>4</th>\n",
       "      <td>Tyrosine</td>\n",
       "      <td>209B</td>\n",
       "      <td>274</td>\n",
       "      <td>Quantitative Amino Acids</td>\n",
       "      <td>202.0</td>\n",
       "      <td>197.7</td>\n",
       "      <td>2.2</td>\n",
       "    </tr>\n",
       "    <tr>\n",
       "      <th>...</th>\n",
       "      <td>...</td>\n",
       "      <td>...</td>\n",
       "      <td>...</td>\n",
       "      <td>...</td>\n",
       "      <td>...</td>\n",
       "      <td>...</td>\n",
       "      <td>...</td>\n",
       "    </tr>\n",
       "    <tr>\n",
       "      <th>367</th>\n",
       "      <td>HVA</td>\n",
       "      <td>246B</td>\n",
       "      <td>C402</td>\n",
       "      <td>Urinary Catecholamines &amp; Metabolite</td>\n",
       "      <td>58.8</td>\n",
       "      <td>61.5</td>\n",
       "      <td>-4.4</td>\n",
       "    </tr>\n",
       "    <tr>\n",
       "      <th>368</th>\n",
       "      <td>HVA</td>\n",
       "      <td>246C</td>\n",
       "      <td>C403</td>\n",
       "      <td>Urinary Catecholamines &amp; Metabolite</td>\n",
       "      <td>16.5</td>\n",
       "      <td>17.6</td>\n",
       "      <td>-6.3</td>\n",
       "    </tr>\n",
       "    <tr>\n",
       "      <th>369</th>\n",
       "      <td>5HIAA</td>\n",
       "      <td>246A</td>\n",
       "      <td>C401</td>\n",
       "      <td>Urinary Catecholamines &amp; Metabolite</td>\n",
       "      <td>22.0</td>\n",
       "      <td>23.2</td>\n",
       "      <td>-5.2</td>\n",
       "    </tr>\n",
       "    <tr>\n",
       "      <th>370</th>\n",
       "      <td>5HIAA</td>\n",
       "      <td>246B</td>\n",
       "      <td>C402</td>\n",
       "      <td>Urinary Catecholamines &amp; Metabolite</td>\n",
       "      <td>84.0</td>\n",
       "      <td>89.0</td>\n",
       "      <td>-5.6</td>\n",
       "    </tr>\n",
       "    <tr>\n",
       "      <th>371</th>\n",
       "      <td>5HIAA</td>\n",
       "      <td>246C</td>\n",
       "      <td>C403</td>\n",
       "      <td>Urinary Catecholamines &amp; Metabolite</td>\n",
       "      <td>49.0</td>\n",
       "      <td>51.8</td>\n",
       "      <td>-5.4</td>\n",
       "    </tr>\n",
       "  </tbody>\n",
       "</table>\n",
       "<p>305 rows × 7 columns</p>\n",
       "</div>"
      ],
      "text/plain": [
       "           Analyte Specimen  Pool                          Scheme name  \\\n",
       "0    Phenylalanine  209A     273   Quantitative Amino Acids              \n",
       "1    Phenylalanine  209B     274   Quantitative Amino Acids              \n",
       "2    Phenylalanine  209C     275   Quantitative Amino Acids              \n",
       "3    Tyrosine       209A     273   Quantitative Amino Acids              \n",
       "4    Tyrosine       209B     274   Quantitative Amino Acids              \n",
       "..        ...        ...     ...                        ...              \n",
       "367  HVA            246B     C402  Urinary Catecholamines & Metabolite   \n",
       "368  HVA            246C     C403  Urinary Catecholamines & Metabolite   \n",
       "369  5HIAA          246A     C401  Urinary Catecholamines & Metabolite   \n",
       "370  5HIAA          246B     C402  Urinary Catecholamines & Metabolite   \n",
       "371  5HIAA          246C     C403  Urinary Catecholamines & Metabolite   \n",
       "\n",
       "     Result    Targ  % Bias  \n",
       "0    137.0   142.1  -3.6     \n",
       "1    1373.0  1314.0  4.5     \n",
       "2    960.0   911.3   5.3     \n",
       "3    99.0    101.8  -2.8     \n",
       "4    202.0   197.7   2.2     \n",
       "..     ...     ...   ...     \n",
       "367  58.8    61.5   -4.4     \n",
       "368  16.5    17.6   -6.3     \n",
       "369  22.0    23.2   -5.2     \n",
       "370  84.0    89.0   -5.6     \n",
       "371  49.0    51.8   -5.4     \n",
       "\n",
       "[305 rows x 7 columns]"
      ]
     },
     "execution_count": 7,
     "metadata": {},
     "output_type": "execute_result"
    }
   ],
   "source": [
    "eqa_bias_df = eqa_bias(eqa_results)\n",
    "eqa_bias_df"
   ]
  },
  {
   "cell_type": "markdown",
   "metadata": {},
   "source": [
    "Next plot the data to see if bias varies with target value. This can be done either individually, or for all schemes in the EQA data.\n",
    "\n",
    "First plot for a single EQA scheme:"
   ]
  },
  {
   "cell_type": "code",
   "execution_count": 10,
   "metadata": {},
   "outputs": [],
   "source": [
    "def eqa_bias_plot(eqa_bias, scheme):\n",
    "    '''\n",
    "    Plot %bias against target value for all analytes in a single scheme\n",
    "    '''\n",
    "    eqa_bias = eqa_bias[eqa_bias['Scheme name'] == scheme]    \n",
    "    \n",
    "    g = sns.FacetGrid(data=eqa_bias, col='Analyte', col_wrap=5, sharex=False)\n",
    "    g = g.map(plt.scatter, \"Targ\", \"% Bias\", edgecolor=\"w\")\n",
    "    g.fig.suptitle(f'EQA results: {scheme}', ha='left', x=0, weight='bold')\n",
    "    g.fig.subplots_adjust(top=0.8)"
   ]
  },
  {
   "cell_type": "code",
   "execution_count": 11,
   "metadata": {},
   "outputs": [
    {
     "data": {
      "image/png": "[encoded data removed]",
      "text/plain": [
       "<Figure size 1080x216 with 5 Axes>"
      ]
     },
     "metadata": {
      "needs_background": "light"
     },
     "output_type": "display_data"
    }
   ],
   "source": [
    "eqa_bias_plot(eqa_bias_df,'Quantitative Amino Acids')"
   ]
  },
  {
   "cell_type": "markdown",
   "metadata": {},
   "source": [
    "Next, plot for all schemes in the eqa data"
   ]
  },
  {
   "cell_type": "code",
   "execution_count": 12,
   "metadata": {},
   "outputs": [],
   "source": [
    "def eqa_bias_multi_plot(df):\n",
    "    '''\n",
    "    Plot % bias against target value for all analytes in ALL schemes in a dataframe df\n",
    "    '''\n",
    "    for scheme in df['Scheme name'].unique():\n",
    "        eqa_bias_plot(df, scheme)"
   ]
  },
  {
   "cell_type": "code",
   "execution_count": 13,
   "metadata": {},
   "outputs": [
    {
     "data": {
      "image/png": "[encoded data removed]",
      "text/plain": [
       "<Figure size 1080x216 with 5 Axes>"
      ]
     },
     "metadata": {
      "needs_background": "light"
     },
     "output_type": "display_data"
    },
    {
     "data": {
      "image/png": "[encoded data removed]",
      "text/plain": [
       "<Figure size 1080x216 with 1 Axes>"
      ]
     },
     "metadata": {
      "needs_background": "light"
     },
     "output_type": "display_data"
    },
    {
     "data": {
      "image/png": "[encoded data removed]",
      "text/plain": [
       "<Figure size 1080x216 with 5 Axes>"
      ]
     },
     "metadata": {
      "needs_background": "light"
     },
     "output_type": "display_data"
    }
   ],
   "source": [
    "eqa_bias_multi_plot(eqa_bias_df)"
   ]
  },
  {
   "cell_type": "markdown",
   "metadata": {},
   "source": [
    "## Calculate the mean bias and standard deviation of the mean bias"
   ]
  },
  {
   "cell_type": "code",
   "execution_count": 22,
   "metadata": {},
   "outputs": [
    {
     "data": {
      "text/html": [
       "<div>\n",
       "<style scoped>\n",
       "    .dataframe tbody tr th:only-of-type {\n",
       "        vertical-align: middle;\n",
       "    }\n",
       "\n",
       "    .dataframe tbody tr th {\n",
       "        vertical-align: top;\n",
       "    }\n",
       "\n",
       "    .dataframe thead th {\n",
       "        text-align: right;\n",
       "    }\n",
       "</style>\n",
       "<table border=\"1\" class=\"dataframe\">\n",
       "  <thead>\n",
       "    <tr style=\"text-align: right;\">\n",
       "      <th></th>\n",
       "      <th>Analyte</th>\n",
       "      <th>Specimen</th>\n",
       "      <th>Pool</th>\n",
       "      <th>Scheme name</th>\n",
       "      <th>Result</th>\n",
       "      <th>Targ</th>\n",
       "      <th>% Bias</th>\n",
       "    </tr>\n",
       "  </thead>\n",
       "  <tbody>\n",
       "    <tr>\n",
       "      <th>0</th>\n",
       "      <td>Phenylalanine</td>\n",
       "      <td>209A</td>\n",
       "      <td>273</td>\n",
       "      <td>Quantitative Amino Acids</td>\n",
       "      <td>137.0</td>\n",
       "      <td>142.1</td>\n",
       "      <td>-3.6</td>\n",
       "    </tr>\n",
       "    <tr>\n",
       "      <th>1</th>\n",
       "      <td>Phenylalanine</td>\n",
       "      <td>209B</td>\n",
       "      <td>274</td>\n",
       "      <td>Quantitative Amino Acids</td>\n",
       "      <td>1373.0</td>\n",
       "      <td>1314.0</td>\n",
       "      <td>4.5</td>\n",
       "    </tr>\n",
       "    <tr>\n",
       "      <th>2</th>\n",
       "      <td>Phenylalanine</td>\n",
       "      <td>209C</td>\n",
       "      <td>275</td>\n",
       "      <td>Quantitative Amino Acids</td>\n",
       "      <td>960.0</td>\n",
       "      <td>911.3</td>\n",
       "      <td>5.3</td>\n",
       "    </tr>\n",
       "    <tr>\n",
       "      <th>3</th>\n",
       "      <td>Tyrosine</td>\n",
       "      <td>209A</td>\n",
       "      <td>273</td>\n",
       "      <td>Quantitative Amino Acids</td>\n",
       "      <td>99.0</td>\n",
       "      <td>101.8</td>\n",
       "      <td>-2.8</td>\n",
       "    </tr>\n",
       "    <tr>\n",
       "      <th>4</th>\n",
       "      <td>Tyrosine</td>\n",
       "      <td>209B</td>\n",
       "      <td>274</td>\n",
       "      <td>Quantitative Amino Acids</td>\n",
       "      <td>202.0</td>\n",
       "      <td>197.7</td>\n",
       "      <td>2.2</td>\n",
       "    </tr>\n",
       "    <tr>\n",
       "      <th>...</th>\n",
       "      <td>...</td>\n",
       "      <td>...</td>\n",
       "      <td>...</td>\n",
       "      <td>...</td>\n",
       "      <td>...</td>\n",
       "      <td>...</td>\n",
       "      <td>...</td>\n",
       "    </tr>\n",
       "    <tr>\n",
       "      <th>367</th>\n",
       "      <td>HVA</td>\n",
       "      <td>246B</td>\n",
       "      <td>C402</td>\n",
       "      <td>Urinary Catecholamines &amp; Metabolite</td>\n",
       "      <td>58.8</td>\n",
       "      <td>61.5</td>\n",
       "      <td>-4.4</td>\n",
       "    </tr>\n",
       "    <tr>\n",
       "      <th>368</th>\n",
       "      <td>HVA</td>\n",
       "      <td>246C</td>\n",
       "      <td>C403</td>\n",
       "      <td>Urinary Catecholamines &amp; Metabolite</td>\n",
       "      <td>16.5</td>\n",
       "      <td>17.6</td>\n",
       "      <td>-6.3</td>\n",
       "    </tr>\n",
       "    <tr>\n",
       "      <th>369</th>\n",
       "      <td>5HIAA</td>\n",
       "      <td>246A</td>\n",
       "      <td>C401</td>\n",
       "      <td>Urinary Catecholamines &amp; Metabolite</td>\n",
       "      <td>22.0</td>\n",
       "      <td>23.2</td>\n",
       "      <td>-5.2</td>\n",
       "    </tr>\n",
       "    <tr>\n",
       "      <th>370</th>\n",
       "      <td>5HIAA</td>\n",
       "      <td>246B</td>\n",
       "      <td>C402</td>\n",
       "      <td>Urinary Catecholamines &amp; Metabolite</td>\n",
       "      <td>84.0</td>\n",
       "      <td>89.0</td>\n",
       "      <td>-5.6</td>\n",
       "    </tr>\n",
       "    <tr>\n",
       "      <th>371</th>\n",
       "      <td>5HIAA</td>\n",
       "      <td>246C</td>\n",
       "      <td>C403</td>\n",
       "      <td>Urinary Catecholamines &amp; Metabolite</td>\n",
       "      <td>49.0</td>\n",
       "      <td>51.8</td>\n",
       "      <td>-5.4</td>\n",
       "    </tr>\n",
       "  </tbody>\n",
       "</table>\n",
       "<p>305 rows × 7 columns</p>\n",
       "</div>"
      ],
      "text/plain": [
       "           Analyte Specimen  Pool                          Scheme name  \\\n",
       "0    Phenylalanine  209A     273   Quantitative Amino Acids              \n",
       "1    Phenylalanine  209B     274   Quantitative Amino Acids              \n",
       "2    Phenylalanine  209C     275   Quantitative Amino Acids              \n",
       "3    Tyrosine       209A     273   Quantitative Amino Acids              \n",
       "4    Tyrosine       209B     274   Quantitative Amino Acids              \n",
       "..        ...        ...     ...                        ...              \n",
       "367  HVA            246B     C402  Urinary Catecholamines & Metabolite   \n",
       "368  HVA            246C     C403  Urinary Catecholamines & Metabolite   \n",
       "369  5HIAA          246A     C401  Urinary Catecholamines & Metabolite   \n",
       "370  5HIAA          246B     C402  Urinary Catecholamines & Metabolite   \n",
       "371  5HIAA          246C     C403  Urinary Catecholamines & Metabolite   \n",
       "\n",
       "     Result    Targ  % Bias  \n",
       "0    137.0   142.1  -3.6     \n",
       "1    1373.0  1314.0  4.5     \n",
       "2    960.0   911.3   5.3     \n",
       "3    99.0    101.8  -2.8     \n",
       "4    202.0   197.7   2.2     \n",
       "..     ...     ...   ...     \n",
       "367  58.8    61.5   -4.4     \n",
       "368  16.5    17.6   -6.3     \n",
       "369  22.0    23.2   -5.2     \n",
       "370  84.0    89.0   -5.6     \n",
       "371  49.0    51.8   -5.4     \n",
       "\n",
       "[305 rows x 7 columns]"
      ]
     },
     "execution_count": 22,
     "metadata": {},
     "output_type": "execute_result"
    }
   ],
   "source": [
    "eqa_bias_df"
   ]
  },
  {
   "cell_type": "code",
   "execution_count": 21,
   "metadata": {
    "scrolled": true
   },
   "outputs": [
    {
     "data": {
      "text/html": [
       "<div>\n",
       "<style scoped>\n",
       "    .dataframe tbody tr th:only-of-type {\n",
       "        vertical-align: middle;\n",
       "    }\n",
       "\n",
       "    .dataframe tbody tr th {\n",
       "        vertical-align: top;\n",
       "    }\n",
       "\n",
       "    .dataframe thead tr th {\n",
       "        text-align: left;\n",
       "    }\n",
       "\n",
       "    .dataframe thead tr:last-of-type th {\n",
       "        text-align: right;\n",
       "    }\n",
       "</style>\n",
       "<table border=\"1\" class=\"dataframe\">\n",
       "  <thead>\n",
       "    <tr>\n",
       "      <th></th>\n",
       "      <th></th>\n",
       "      <th colspan=\"2\" halign=\"left\">% Bias</th>\n",
       "    </tr>\n",
       "    <tr>\n",
       "      <th></th>\n",
       "      <th></th>\n",
       "      <th>mean</th>\n",
       "      <th>std</th>\n",
       "    </tr>\n",
       "    <tr>\n",
       "      <th>Scheme name</th>\n",
       "      <th>Analyte</th>\n",
       "      <th></th>\n",
       "      <th></th>\n",
       "    </tr>\n",
       "  </thead>\n",
       "  <tbody>\n",
       "    <tr>\n",
       "      <th rowspan=\"5\" valign=\"top\">Quantitative Amino Acids</th>\n",
       "      <th>Isoleucine</th>\n",
       "      <td>2.283333</td>\n",
       "      <td>4.764239</td>\n",
       "    </tr>\n",
       "    <tr>\n",
       "      <th>Leucine</th>\n",
       "      <td>-0.483333</td>\n",
       "      <td>3.830049</td>\n",
       "    </tr>\n",
       "    <tr>\n",
       "      <th>Phenylalanine</th>\n",
       "      <td>0.133333</td>\n",
       "      <td>3.658661</td>\n",
       "    </tr>\n",
       "    <tr>\n",
       "      <th>Tyrosine</th>\n",
       "      <td>1.258333</td>\n",
       "      <td>6.285934</td>\n",
       "    </tr>\n",
       "    <tr>\n",
       "      <th>Valine</th>\n",
       "      <td>2.191667</td>\n",
       "      <td>4.117293</td>\n",
       "    </tr>\n",
       "    <tr>\n",
       "      <th>Sweat Testing</th>\n",
       "      <th>Sweat Chloride</th>\n",
       "      <td>-1.438462</td>\n",
       "      <td>1.776306</td>\n",
       "    </tr>\n",
       "    <tr>\n",
       "      <th rowspan=\"5\" valign=\"top\">Urinary Catecholamines &amp; Metabolite</th>\n",
       "      <th>5HIAA</th>\n",
       "      <td>19.213333</td>\n",
       "      <td>15.902347</td>\n",
       "    </tr>\n",
       "    <tr>\n",
       "      <th>HVA</th>\n",
       "      <td>-2.946667</td>\n",
       "      <td>5.850949</td>\n",
       "    </tr>\n",
       "    <tr>\n",
       "      <th>Metadrenaline</th>\n",
       "      <td>18.854545</td>\n",
       "      <td>11.664907</td>\n",
       "    </tr>\n",
       "    <tr>\n",
       "      <th>Normetadrenaline</th>\n",
       "      <td>16.075758</td>\n",
       "      <td>6.986596</td>\n",
       "    </tr>\n",
       "    <tr>\n",
       "      <th>VMA [HMMA]</th>\n",
       "      <td>0.600000</td>\n",
       "      <td>4.997437</td>\n",
       "    </tr>\n",
       "  </tbody>\n",
       "</table>\n",
       "</div>"
      ],
      "text/plain": [
       "                                                         % Bias           \n",
       "                                                           mean        std\n",
       "Scheme name                         Analyte                               \n",
       "Quantitative Amino Acids            Isoleucine        2.283333   4.764239 \n",
       "                                    Leucine          -0.483333   3.830049 \n",
       "                                    Phenylalanine     0.133333   3.658661 \n",
       "                                    Tyrosine          1.258333   6.285934 \n",
       "                                    Valine            2.191667   4.117293 \n",
       "Sweat Testing                       Sweat Chloride   -1.438462   1.776306 \n",
       "Urinary Catecholamines & Metabolite 5HIAA             19.213333  15.902347\n",
       "                                    HVA              -2.946667   5.850949 \n",
       "                                    Metadrenaline     18.854545  11.664907\n",
       "                                    Normetadrenaline  16.075758  6.986596 \n",
       "                                    VMA [HMMA]        0.600000   4.997437 "
      ]
     },
     "execution_count": 21,
     "metadata": {},
     "output_type": "execute_result"
    }
   ],
   "source": [
    "eqa_bias_df.groupby(['Scheme name','Analyte']).agg({'% Bias':['mean','std']})"
   ]
  },
  {
   "cell_type": "markdown",
   "metadata": {},
   "source": [
    "### Standard uncertainty in the target value"
   ]
  },
  {
   "cell_type": "code",
   "execution_count": 25,
   "metadata": {},
   "outputs": [],
   "source": [
    "def standard_uncertainty_data(filename):\n",
    "    df = pd.read_csv(filename)\n",
    "    standard_uncertainty = df[df['Name'] == 'Standard Uncertainty']\n",
    "    \n",
    "    #Assumes that there are three samples per distribution for all schemes (might be dangerous)\n",
    "    standard_uncertainty['Distribution'][0::3] = standard_uncertainty['Distribution'][0::3].astype(str) + 'A'\n",
    "    standard_uncertainty['Distribution'][1::3] = standard_uncertainty['Distribution'][1::3].astype(str) + 'B'\n",
    "    standard_uncertainty['Distribution'][2::3] = standard_uncertainty['Distribution'][2::3].astype(str) + 'C'\n",
    "    \n",
    "    standard_uncertainty = standard_uncertainty.rename(columns={'Analyte name':'Analyte','Distribution':'Specimen'})\n",
    "    \n",
    "    return standard_uncertainty"
   ]
  },
  {
   "cell_type": "code",
   "execution_count": 26,
   "metadata": {
    "scrolled": true
   },
   "outputs": [
    {
     "name": "stderr",
     "output_type": "stream",
     "text": [
      "C:\\Users\\nickf\\Anaconda3\\lib\\site-packages\\ipykernel_launcher.py:6: SettingWithCopyWarning: \n",
      "A value is trying to be set on a copy of a slice from a DataFrame\n",
      "\n",
      "See the caveats in the documentation: https://pandas.pydata.org/pandas-docs/stable/user_guide/indexing.html#returning-a-view-versus-a-copy\n",
      "  \n",
      "C:\\Users\\nickf\\Anaconda3\\lib\\site-packages\\pandas\\core\\series.py:1027: SettingWithCopyWarning: \n",
      "A value is trying to be set on a copy of a slice from a DataFrame\n",
      "\n",
      "See the caveats in the documentation: https://pandas.pydata.org/pandas-docs/stable/user_guide/indexing.html#returning-a-view-versus-a-copy\n",
      "  self._set_with(key, value)\n",
      "C:\\Users\\nickf\\Anaconda3\\lib\\site-packages\\ipykernel_launcher.py:1: SettingWithCopyWarning: \n",
      "A value is trying to be set on a copy of a slice from a DataFrame\n",
      "\n",
      "See the caveats in the documentation: https://pandas.pydata.org/pandas-docs/stable/user_guide/indexing.html#returning-a-view-versus-a-copy\n",
      "  \"\"\"Entry point for launching an IPython kernel.\n"
     ]
    }
   ],
   "source": [
    "std_uncert = standard_uncertainty_data('data\\\\raw_data\\\\EQA_analyte_information.csv')"
   ]
  },
  {
   "cell_type": "code",
   "execution_count": 28,
   "metadata": {},
   "outputs": [
    {
     "data": {
      "text/html": [
       "<div>\n",
       "<style scoped>\n",
       "    .dataframe tbody tr th:only-of-type {\n",
       "        vertical-align: middle;\n",
       "    }\n",
       "\n",
       "    .dataframe tbody tr th {\n",
       "        vertical-align: top;\n",
       "    }\n",
       "\n",
       "    .dataframe thead th {\n",
       "        text-align: right;\n",
       "    }\n",
       "</style>\n",
       "<table border=\"1\" class=\"dataframe\">\n",
       "  <thead>\n",
       "    <tr style=\"text-align: right;\">\n",
       "      <th></th>\n",
       "      <th>Name</th>\n",
       "      <th>Value</th>\n",
       "      <th>Analyte</th>\n",
       "      <th>Specimen</th>\n",
       "      <th>Scheme name</th>\n",
       "    </tr>\n",
       "  </thead>\n",
       "  <tbody>\n",
       "    <tr>\n",
       "      <th>3</th>\n",
       "      <td>Standard Uncertainty</td>\n",
       "      <td>1.2</td>\n",
       "      <td>Initial TSH (mU/L WB)</td>\n",
       "      <td>321A</td>\n",
       "      <td>Birmingham Quality ~ Newborn British Isles</td>\n",
       "    </tr>\n",
       "    <tr>\n",
       "      <th>13</th>\n",
       "      <td>Standard Uncertainty</td>\n",
       "      <td>1.1</td>\n",
       "      <td>Initial TSH (mU/L WB)</td>\n",
       "      <td>321B</td>\n",
       "      <td>Birmingham Quality ~ Newborn British Isles</td>\n",
       "    </tr>\n",
       "    <tr>\n",
       "      <th>23</th>\n",
       "      <td>Standard Uncertainty</td>\n",
       "      <td>1.6</td>\n",
       "      <td>Initial TSH (mU/L WB)</td>\n",
       "      <td>321C</td>\n",
       "      <td>Birmingham Quality ~ Newborn British Isles</td>\n",
       "    </tr>\n",
       "    <tr>\n",
       "      <th>33</th>\n",
       "      <td>Standard Uncertainty</td>\n",
       "      <td>0.8</td>\n",
       "      <td>Final TSH (mU/L WB)</td>\n",
       "      <td>321A</td>\n",
       "      <td>Birmingham Quality ~ Newborn British Isles</td>\n",
       "    </tr>\n",
       "    <tr>\n",
       "      <th>43</th>\n",
       "      <td>Standard Uncertainty</td>\n",
       "      <td>0.7</td>\n",
       "      <td>Final TSH (mU/L WB)</td>\n",
       "      <td>321B</td>\n",
       "      <td>Birmingham Quality ~ Newborn British Isles</td>\n",
       "    </tr>\n",
       "  </tbody>\n",
       "</table>\n",
       "</div>"
      ],
      "text/plain": [
       "                    Name Value                Analyte Specimen  \\\n",
       "3   Standard Uncertainty  1.2   Initial TSH (mU/L WB)  321A      \n",
       "13  Standard Uncertainty  1.1   Initial TSH (mU/L WB)  321B      \n",
       "23  Standard Uncertainty  1.6   Initial TSH (mU/L WB)  321C      \n",
       "33  Standard Uncertainty  0.8   Final TSH (mU/L WB)    321A      \n",
       "43  Standard Uncertainty  0.7   Final TSH (mU/L WB)    321B      \n",
       "\n",
       "                                   Scheme name  \n",
       "3   Birmingham Quality ~ Newborn British Isles  \n",
       "13  Birmingham Quality ~ Newborn British Isles  \n",
       "23  Birmingham Quality ~ Newborn British Isles  \n",
       "33  Birmingham Quality ~ Newborn British Isles  \n",
       "43  Birmingham Quality ~ Newborn British Isles  "
      ]
     },
     "execution_count": 28,
     "metadata": {},
     "output_type": "execute_result"
    }
   ],
   "source": [
    "std_uncert.head()"
   ]
  },
  {
   "cell_type": "code",
   "execution_count": 33,
   "metadata": {},
   "outputs": [
    {
     "data": {
      "text/html": [
       "<div>\n",
       "<style scoped>\n",
       "    .dataframe tbody tr th:only-of-type {\n",
       "        vertical-align: middle;\n",
       "    }\n",
       "\n",
       "    .dataframe tbody tr th {\n",
       "        vertical-align: top;\n",
       "    }\n",
       "\n",
       "    .dataframe thead th {\n",
       "        text-align: right;\n",
       "    }\n",
       "</style>\n",
       "<table border=\"1\" class=\"dataframe\">\n",
       "  <thead>\n",
       "    <tr style=\"text-align: right;\">\n",
       "      <th></th>\n",
       "      <th>Analyte</th>\n",
       "      <th>Specimen</th>\n",
       "      <th>Pool</th>\n",
       "      <th>Scheme name</th>\n",
       "      <th>Result</th>\n",
       "      <th>Targ</th>\n",
       "      <th>% Bias</th>\n",
       "      <th>Name</th>\n",
       "      <th>Value</th>\n",
       "    </tr>\n",
       "  </thead>\n",
       "  <tbody>\n",
       "    <tr>\n",
       "      <th>0</th>\n",
       "      <td>Phenylalanine</td>\n",
       "      <td>209A</td>\n",
       "      <td>273</td>\n",
       "      <td>Quantitative Amino Acids</td>\n",
       "      <td>137.0</td>\n",
       "      <td>142.1</td>\n",
       "      <td>-3.6</td>\n",
       "      <td>NaN</td>\n",
       "      <td>NaN</td>\n",
       "    </tr>\n",
       "    <tr>\n",
       "      <th>1</th>\n",
       "      <td>Phenylalanine</td>\n",
       "      <td>209B</td>\n",
       "      <td>274</td>\n",
       "      <td>Quantitative Amino Acids</td>\n",
       "      <td>1373.0</td>\n",
       "      <td>1314.0</td>\n",
       "      <td>4.5</td>\n",
       "      <td>NaN</td>\n",
       "      <td>NaN</td>\n",
       "    </tr>\n",
       "    <tr>\n",
       "      <th>2</th>\n",
       "      <td>Phenylalanine</td>\n",
       "      <td>209C</td>\n",
       "      <td>275</td>\n",
       "      <td>Quantitative Amino Acids</td>\n",
       "      <td>960.0</td>\n",
       "      <td>911.3</td>\n",
       "      <td>5.3</td>\n",
       "      <td>NaN</td>\n",
       "      <td>NaN</td>\n",
       "    </tr>\n",
       "    <tr>\n",
       "      <th>3</th>\n",
       "      <td>Tyrosine</td>\n",
       "      <td>209A</td>\n",
       "      <td>273</td>\n",
       "      <td>Quantitative Amino Acids</td>\n",
       "      <td>99.0</td>\n",
       "      <td>101.8</td>\n",
       "      <td>-2.8</td>\n",
       "      <td>NaN</td>\n",
       "      <td>NaN</td>\n",
       "    </tr>\n",
       "    <tr>\n",
       "      <th>4</th>\n",
       "      <td>Tyrosine</td>\n",
       "      <td>209B</td>\n",
       "      <td>274</td>\n",
       "      <td>Quantitative Amino Acids</td>\n",
       "      <td>202.0</td>\n",
       "      <td>197.7</td>\n",
       "      <td>2.2</td>\n",
       "      <td>NaN</td>\n",
       "      <td>NaN</td>\n",
       "    </tr>\n",
       "    <tr>\n",
       "      <th>...</th>\n",
       "      <td>...</td>\n",
       "      <td>...</td>\n",
       "      <td>...</td>\n",
       "      <td>...</td>\n",
       "      <td>...</td>\n",
       "      <td>...</td>\n",
       "      <td>...</td>\n",
       "      <td>...</td>\n",
       "      <td>...</td>\n",
       "    </tr>\n",
       "    <tr>\n",
       "      <th>372</th>\n",
       "      <td>HVA (umol/24h)</td>\n",
       "      <td>246B</td>\n",
       "      <td>NaN</td>\n",
       "      <td>Urinary Catecholamines &amp; Metabolite</td>\n",
       "      <td>NaN</td>\n",
       "      <td>NaN</td>\n",
       "      <td>NaN</td>\n",
       "      <td>Standard Uncertainty</td>\n",
       "      <td>1.53</td>\n",
       "    </tr>\n",
       "    <tr>\n",
       "      <th>373</th>\n",
       "      <td>HVA (umol/24h)</td>\n",
       "      <td>246C</td>\n",
       "      <td>NaN</td>\n",
       "      <td>Urinary Catecholamines &amp; Metabolite</td>\n",
       "      <td>NaN</td>\n",
       "      <td>NaN</td>\n",
       "      <td>NaN</td>\n",
       "      <td>Standard Uncertainty</td>\n",
       "      <td>0.52</td>\n",
       "    </tr>\n",
       "    <tr>\n",
       "      <th>374</th>\n",
       "      <td>5HIAA (umol/24h)</td>\n",
       "      <td>246A</td>\n",
       "      <td>NaN</td>\n",
       "      <td>Urinary Catecholamines &amp; Metabolite</td>\n",
       "      <td>NaN</td>\n",
       "      <td>NaN</td>\n",
       "      <td>NaN</td>\n",
       "      <td>Standard Uncertainty</td>\n",
       "      <td>0.41</td>\n",
       "    </tr>\n",
       "    <tr>\n",
       "      <th>375</th>\n",
       "      <td>5HIAA (umol/24h)</td>\n",
       "      <td>246B</td>\n",
       "      <td>NaN</td>\n",
       "      <td>Urinary Catecholamines &amp; Metabolite</td>\n",
       "      <td>NaN</td>\n",
       "      <td>NaN</td>\n",
       "      <td>NaN</td>\n",
       "      <td>Standard Uncertainty</td>\n",
       "      <td>1.59</td>\n",
       "    </tr>\n",
       "    <tr>\n",
       "      <th>376</th>\n",
       "      <td>5HIAA (umol/24h)</td>\n",
       "      <td>246C</td>\n",
       "      <td>NaN</td>\n",
       "      <td>Urinary Catecholamines &amp; Metabolite</td>\n",
       "      <td>NaN</td>\n",
       "      <td>NaN</td>\n",
       "      <td>NaN</td>\n",
       "      <td>Standard Uncertainty</td>\n",
       "      <td>0.93</td>\n",
       "    </tr>\n",
       "  </tbody>\n",
       "</table>\n",
       "<p>377 rows × 9 columns</p>\n",
       "</div>"
      ],
      "text/plain": [
       "              Analyte Specimen Pool                          Scheme name  \\\n",
       "0    Phenylalanine     209A     273  Quantitative Amino Acids              \n",
       "1    Phenylalanine     209B     274  Quantitative Amino Acids              \n",
       "2    Phenylalanine     209C     275  Quantitative Amino Acids              \n",
       "3    Tyrosine          209A     273  Quantitative Amino Acids              \n",
       "4    Tyrosine          209B     274  Quantitative Amino Acids              \n",
       "..        ...           ...     ...                       ...              \n",
       "372  HVA (umol/24h)    246B     NaN  Urinary Catecholamines & Metabolite   \n",
       "373  HVA (umol/24h)    246C     NaN  Urinary Catecholamines & Metabolite   \n",
       "374  5HIAA (umol/24h)  246A     NaN  Urinary Catecholamines & Metabolite   \n",
       "375  5HIAA (umol/24h)  246B     NaN  Urinary Catecholamines & Metabolite   \n",
       "376  5HIAA (umol/24h)  246C     NaN  Urinary Catecholamines & Metabolite   \n",
       "\n",
       "     Result    Targ  % Bias                  Name Value  \n",
       "0    137.0   142.1  -3.6     NaN                   NaN   \n",
       "1    1373.0  1314.0  4.5     NaN                   NaN   \n",
       "2    960.0   911.3   5.3     NaN                   NaN   \n",
       "3    99.0    101.8  -2.8     NaN                   NaN   \n",
       "4    202.0   197.7   2.2     NaN                   NaN   \n",
       "..     ...     ...   ...     ...                   ...   \n",
       "372 NaN     NaN     NaN      Standard Uncertainty  1.53  \n",
       "373 NaN     NaN     NaN      Standard Uncertainty  0.52  \n",
       "374 NaN     NaN     NaN      Standard Uncertainty  0.41  \n",
       "375 NaN     NaN     NaN      Standard Uncertainty  1.59  \n",
       "376 NaN     NaN     NaN      Standard Uncertainty  0.93  \n",
       "\n",
       "[377 rows x 9 columns]"
      ]
     },
     "execution_count": 33,
     "metadata": {},
     "output_type": "execute_result"
    }
   ],
   "source": [
    "eqa_bias_df.merge(right=std_uncert,on=['Analyte','Specimen','Scheme name'],how='outer')"
   ]
  },
  {
   "cell_type": "markdown",
   "metadata": {},
   "source": [
    "# Performance targets"
   ]
  },
  {
   "cell_type": "markdown",
   "metadata": {},
   "source": [
    "Performance targets for each measurand are detailed in **ADD.BIO 6378**: *BGU Quality Monitoring Processes (Appendix 4)*\n",
    "\n",
    "Import the performance targets, rename the columns and round to one decimal place."
   ]
  },
  {
   "cell_type": "code",
   "execution_count": null,
   "metadata": {},
   "outputs": [],
   "source": [
    "def import_performance_targets(filepath):\n",
    "    performance_targets = pd.read_excel(filepath,skiprows=2\n",
    "                                       ,names=['Assay','Measurand','Biol CVi','Biol CVg'\n",
    "                                               ,'Anal CV Optimal','Anal CV Desirable','Anal CV Minimal'\n",
    "                                              ,'Bias Optimal','Bias Desirable','Bias Minimal'\n",
    "                                              ,'TE Optimal','TE Desirable','TE Minimal','Source of performance targets'])\n",
    "    performance_targets = performance_targets.drop(columns=['Biol CVi','Biol CVg','Source of performance targets'])\n",
    "    return performance_targets.round(1)"
   ]
  },
  {
   "cell_type": "code",
   "execution_count": null,
   "metadata": {
    "scrolled": true
   },
   "outputs": [],
   "source": [
    "performance_targets = import_performance_targets('data\\\\raw_data\\\\Measurement uncertainty performance targets December 2020.xlsx')\n",
    "performance_targets.head()"
   ]
  },
  {
   "cell_type": "markdown",
   "metadata": {},
   "source": [
    "Performance against imprecision, bias and total allowable error is assessed against three targets:\n",
    "* Optimal\n",
    "* Desirable\n",
    "* Minimal\n",
    "\n",
    "Define a function to categorise the value obtained against these three targets."
   ]
  },
  {
   "cell_type": "code",
   "execution_count": null,
   "metadata": {},
   "outputs": [],
   "source": [
    "def performance(value, optimal, desirable, minimal):\n",
    "    if value < optimal:\n",
    "        return \"Optimal\"\n",
    "    elif value < desirable:\n",
    "        return \"Desirable\"\n",
    "    elif value < minimal:\n",
    "        return \"Minimal\"\n",
    "    else:\n",
    "        return \"Not met\""
   ]
  },
  {
   "cell_type": "markdown",
   "metadata": {},
   "source": [
    "## Imprecision targets"
   ]
  },
  {
   "cell_type": "markdown",
   "metadata": {},
   "source": [
    "Calculate performance against imprecision targets, and plot"
   ]
  },
  {
   "cell_type": "code",
   "execution_count": null,
   "metadata": {},
   "outputs": [],
   "source": [
    "def imprecision_performance(qc_data, assay):\n",
    "    assay_qc_summary = qc_aggregated(qc_data,assay,10)\n",
    "    targets = performance_targets[performance_targets['Assay'] == assay]\n",
    "    assay_qc_summary = assay_qc_summary.merge(right=targets,on='Measurand',how='outer')\n",
    "    assay_qc_summary['CV performance'] = assay_qc_summary.apply(lambda x: performance(x['% CV'],x['Anal CV Optimal'],x['Anal CV Desirable'],x['Anal CV Minimal']), axis = 1)\n",
    "    return assay_qc_summary[['Measurand','% CV','CV performance']]"
   ]
  },
  {
   "cell_type": "code",
   "execution_count": null,
   "metadata": {},
   "outputs": [],
   "source": [
    "imprecision_performance(qc_data,'Organic acids')"
   ]
  },
  {
   "cell_type": "code",
   "execution_count": null,
   "metadata": {},
   "outputs": [],
   "source": []
  }
 ],
 "metadata": {
  "kernelspec": {
   "display_name": "Python 3",
   "language": "python",
   "name": "python3"
  },
  "language_info": {
   "codemirror_mode": {
    "name": "ipython",
    "version": 3
   },
   "file_extension": ".py",
   "mimetype": "text/x-python",
   "name": "python",
   "nbconvert_exporter": "python",
   "pygments_lexer": "ipython3",
   "version": "3.7.9"
  }
 },
 "nbformat": 4,
 "nbformat_minor": 2
}
