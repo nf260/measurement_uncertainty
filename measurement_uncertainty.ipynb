{
 "cells": [
  {
   "cell_type": "markdown",
   "metadata": {},
   "source": [
    "# Measurement uncertainty calculations"
   ]
  },
  {
   "cell_type": "markdown",
   "metadata": {},
   "source": [
    "# Introduction"
   ]
  },
  {
   "cell_type": "markdown",
   "metadata": {},
   "source": [
    "### Definitions\n",
    "**Measurement uncertainty** is defined in the ISO ‘Guide to the Expression of Uncertainty in Measurement’ as ‘a parameter, associated with the result of a measurement that characterises the dispersion of the values that  could  reasonably  be  attributed  to  the  measurand’.  The  **measurand**  is  the  ‘quantity  intended  to  be measured’.\n",
    "\n",
    "### Purpose\n",
    "An estimate  of  uncertainty  provides  a  quantitative  indication  of  the  quality  of  a  measurement  result. Rather than using a ‘bottom-up’ approach which examines the inputs to a method and considers how they might influence results, the biochemical genetics units uses a ‘top-down’ approach using the information from method outputs (e.g. the observed variability of replicate measurement results), as described in ADD.BIO 6680: Estimating measurement uncertainty in the biochemical genetics unit. This notebook attempts to outline these steps."
   ]
  },
  {
   "cell_type": "markdown",
   "metadata": {},
   "source": [
    "## Imports, configuration"
   ]
  },
  {
   "cell_type": "code",
   "execution_count": null,
   "metadata": {},
   "outputs": [],
   "source": [
    "import os\n",
    "import numpy as np\n",
    "import pandas as pd\n",
    "import matplotlib.pyplot as plt\n",
    "import seaborn as sns"
   ]
  },
  {
   "cell_type": "markdown",
   "metadata": {},
   "source": [
    "### Optional Pandas configuration.\n",
    "\n",
    "Since some columns have long names, change the maximum column width in Pandas so we can see the full name. We also may want to see the full list of rows, in some cases.\n"
   ]
  },
  {
   "cell_type": "code",
   "execution_count": null,
   "metadata": {
    "scrolled": true
   },
   "outputs": [],
   "source": [
    "pd.set_option('display.max_colwidth', None)\n",
    "pd.set_option('display.max_rows', 50)"
   ]
  },
  {
   "cell_type": "markdown",
   "metadata": {},
   "source": [
    "## Import mappings"
   ]
  },
  {
   "cell_type": "markdown",
   "metadata": {},
   "source": [
    "The mappings file contains:\n",
    "* a sort order for measurands within each assay\n",
    "* a flag if the measurand is a ratio\n",
    "* mappings to link the Assay and Measurand to the name of the QC material in [Randox Acusera 24:7](https://qc.randox.com/Acusera#Home)\n",
    "* mappings to link the EQA scheme and EQA analyte name\n",
    "* the lower and upper limit of quantitation, as described in the assay SOP. If the lower or upper limits are not specified in the SOP, these are given as 0 and 9999999 respectively. If more than one limit is provided (for example, different limits for different instruments), then the lower lower limit or higher upper limit was used.\n"
   ]
  },
  {
   "cell_type": "code",
   "execution_count": null,
   "metadata": {
    "scrolled": true
   },
   "outputs": [],
   "source": [
    "mappings = pd.read_csv('data\\\\raw_data\\\\mappings.csv')\n",
    "mappings.head()"
   ]
  },
  {
   "cell_type": "markdown",
   "metadata": {},
   "source": [
    "# Obtain an estimate of the precision of the measurement procedure"
   ]
  },
  {
   "cell_type": "markdown",
   "metadata": {},
   "source": [
    "## Load measurement uncertainty report from Randox Acusera 24:7"
   ]
  },
  {
   "cell_type": "markdown",
   "metadata": {},
   "source": [
    "The measurement uncertainty report contains stiastics on each lot number in Randox Acusera. Data points that have been rejected are not included in the analysis.\n",
    "\n",
    "When loading the data, merge with the mappings table and exclude QC lots where the measurand concentration is outside the reportable range"
   ]
  },
  {
   "cell_type": "code",
   "execution_count": null,
   "metadata": {},
   "outputs": [],
   "source": [
    "from functions import load_randox"
   ]
  },
  {
   "cell_type": "code",
   "execution_count": null,
   "metadata": {
    "scrolled": true
   },
   "outputs": [],
   "source": [
    "qc_data = load_randox(\"data\\\\raw_data\\\\uncertainty_of_measurement_010120_311220.xlsx\"\n",
    "                        ,\"data\\\\raw_data\\\\mappings.csv\")"
   ]
  },
  {
   "cell_type": "markdown",
   "metadata": {},
   "source": [
    "## Obtain an estimate of the precision of the measurement procedure"
   ]
  },
  {
   "cell_type": "markdown",
   "metadata": {},
   "source": [
    "The measurement uncertainty report from Randox needs to be processed to:\n",
    "* exclude QC lots where the measurand concentration is outside the reportable range (done above when importing the data)\n",
    "* exclude QC lots with low counts\n",
    "* calculate averages for each measurand\n",
    "* present the data by assay in a useful format\n",
    "\n",
    "First,  create a summary for each lot number that shows some basic statistics by pivoting existing data and removing lots with low counts."
   ]
  },
  {
   "cell_type": "code",
   "execution_count": null,
   "metadata": {},
   "outputs": [],
   "source": [
    "from functions import qc_lot_summary"
   ]
  },
  {
   "cell_type": "code",
   "execution_count": null,
   "metadata": {},
   "outputs": [],
   "source": [
    "qc_lot_summary(qc_data,'Organic acids', 10)"
   ]
  },
  {
   "cell_type": "code",
   "execution_count": null,
   "metadata": {},
   "outputs": [],
   "source": [
    "qc_lot_summary(qc_data,'Newborn screening for inherited metabolic disorders',10)"
   ]
  },
  {
   "cell_type": "code",
   "execution_count": null,
   "metadata": {},
   "outputs": [],
   "source": [
    "qc_lot_summary(qc_data,'Acylcarnitines (Blood spot)',10)"
   ]
  },
  {
   "cell_type": "markdown",
   "metadata": {},
   "source": [
    "Next, we aggregate the data over all lots numbers and instruments (excluding those whe the count is less than the count threshold) by summing the total counts and averaging the measurement uncertainty and %CV."
   ]
  },
  {
   "cell_type": "code",
   "execution_count": null,
   "metadata": {},
   "outputs": [],
   "source": [
    "from functions import qc_aggregated"
   ]
  },
  {
   "cell_type": "code",
   "execution_count": null,
   "metadata": {},
   "outputs": [],
   "source": [
    "def qc_aggregated(qc_data, assay, count_thresh=1):\n",
    "    '''\n",
    "    Returns total number of QC datapoints for each analyte and average of each lot number measurement uncertainty and %CV\n",
    "    Excludes any statistics with fewer than count_thresh values\n",
    "    '''\n",
    "    mappings = pd.read_csv(\"data\\\\raw_data\\\\mappings.csv\")\n",
    "    all_measurands = mappings[mappings['Assay'] == assay]\n",
    "    all_measurands = all_measurands.reset_index()[['Measurand','Order']]\n",
    "    \n",
    "    ## Filter qc data for assay values only\n",
    "    filtered = qc_data[qc_data['Assay'] == assay].drop(columns=['Assay','Randox'])\n",
    "    \n",
    "    ## Ignore lots with low numbers of data points\n",
    "    filtered = filtered[filtered['Count'] >= count_thresh]\n",
    "    \n",
    "    ## Calculate aggregate functions\n",
    "    aggregated = filtered.groupby('Measurand').agg({'Count':'sum',\n",
    "                                              'UOM':'mean',\n",
    "                                              '% CV':'mean'})\n",
    "    \n",
    "    ## Merge with mappings to show all measurands (so that they appear even if no QC data) and order by sort order\n",
    "    aggregated = aggregated.merge(right=all_measurands,on='Measurand',how='outer')\n",
    "    aggregated = aggregated.sort_values(by='Order', ignore_index=True)\n",
    "    aggregated = aggregated.drop(columns='Order')\n",
    "    aggregated = aggregated.set_index('Measurand')\n",
    "    \n",
    "    ## Fill blanks\n",
    "    aggregated = aggregated.fillna('')\n",
    "    \n",
    "    return aggregated.round(2)"
   ]
  },
  {
   "cell_type": "code",
   "execution_count": null,
   "metadata": {
    "scrolled": true
   },
   "outputs": [],
   "source": [
    "qc_aggregated(qc_data,'Organic acids',10)"
   ]
  },
  {
   "cell_type": "code",
   "execution_count": null,
   "metadata": {},
   "outputs": [],
   "source": [
    "qc_aggregated(qc_data,'Acylcarnitines (Blood spot)',10)"
   ]
  },
  {
   "cell_type": "markdown",
   "metadata": {},
   "source": [
    "We can then combine the lot statistics and aggregated statistics"
   ]
  },
  {
   "cell_type": "code",
   "execution_count": null,
   "metadata": {},
   "outputs": [],
   "source": [
    "from functions import qc_lot_summary_with_means"
   ]
  },
  {
   "cell_type": "markdown",
   "metadata": {},
   "source": [
    "Note: for the acylcarnitines assay, some measurands have data for one QC lot, and some measurands have no values. This is because the measurand is present at less than the limit of quantitation"
   ]
  },
  {
   "cell_type": "code",
   "execution_count": null,
   "metadata": {},
   "outputs": [],
   "source": [
    "def qc_lot_summary_with_means(qc_data, assay, count_thresh=1):\n",
    "    '''\n",
    "    Returns a dataframe containing both lot number statistics and aggregated statistics\n",
    "    Excludes any statistics with fewer than count_thresh values\n",
    "    '''\n",
    "    assay_qc_pivot = qc_lot_summary(qc_data, assay, count_thresh)\n",
    "    aggregated = qc_aggregated(qc_data, assay, count_thresh)\n",
    "    \n",
    "    assay_qc_pivot[('All instrument','All lots','Count')] = aggregated['Count']\n",
    "    assay_qc_pivot[('All instrument','All lots','UOM')] = aggregated['UOM']\n",
    "    assay_qc_pivot[('All instrument','All lots','% CV')] = aggregated['% CV']\n",
    "    \n",
    "    ## Fill blanks\n",
    "    assay_qc_pivot = assay_qc_pivot.fillna('')\n",
    "    \n",
    "    return assay_qc_pivot.round(2)"
   ]
  },
  {
   "cell_type": "code",
   "execution_count": null,
   "metadata": {},
   "outputs": [],
   "source": [
    "qc_lot_summary_with_means(qc_data, 'Newborn screening for inherited metabolic disorders', 10)"
   ]
  },
  {
   "cell_type": "markdown",
   "metadata": {},
   "source": [
    "We can export the data for all assays as seperate .csv files which are saved in the \\data\\processed\\qc_summary_tables folder"
   ]
  },
  {
   "cell_type": "code",
   "execution_count": null,
   "metadata": {},
   "outputs": [],
   "source": [
    "from functions import assay_qc_data_export"
   ]
  },
  {
   "cell_type": "code",
   "execution_count": null,
   "metadata": {
    "scrolled": true
   },
   "outputs": [],
   "source": [
    "assay_qc_data_export(qc_data,10)"
   ]
  },
  {
   "cell_type": "markdown",
   "metadata": {},
   "source": [
    "# Obtain an estimate of the measurement bias and its uncertainty"
   ]
  },
  {
   "cell_type": "markdown",
   "metadata": {},
   "source": [
    "Measurement bias and its uncertainty can be estimnated from the regular participation in external quality assessment (EQA)."
   ]
  },
  {
   "cell_type": "markdown",
   "metadata": {},
   "source": [
    "## Load and pre-processing EQA data\n",
    "\n",
    "### Load EQA data\n",
    "\n",
    "Load EQA results from a csv file (UKNEQAS results can be obtained using EQA data scraper)"
   ]
  },
  {
   "cell_type": "code",
   "execution_count": null,
   "metadata": {},
   "outputs": [],
   "source": [
    "from functions import load_eqa"
   ]
  },
  {
   "cell_type": "code",
   "execution_count": null,
   "metadata": {
    "scrolled": true
   },
   "outputs": [],
   "source": [
    "folder = 'data//raw_data//eqa_results//results_targets'\n",
    "eqa_results = load_eqa(folder)\n",
    "eqa_results.head()"
   ]
  },
  {
   "cell_type": "markdown",
   "metadata": {},
   "source": [
    "### Calculate EQA statistics"
   ]
  },
  {
   "cell_type": "markdown",
   "metadata": {},
   "source": [
    "The EQA data does not contain the specimen bias or percentage uncertainty in the target. We can calculate these from the result, target value and standard uncertainty of the target value (after excluding non-numeric results and target values)"
   ]
  },
  {
   "cell_type": "code",
   "execution_count": null,
   "metadata": {},
   "outputs": [],
   "source": [
    "from functions import eqa_calculations"
   ]
  },
  {
   "cell_type": "code",
   "execution_count": null,
   "metadata": {},
   "outputs": [],
   "source": [
    "eqa_calculated = eqa_calculations(eqa_results)"
   ]
  },
  {
   "cell_type": "markdown",
   "metadata": {},
   "source": [
    "### Exclude outliers\n",
    "\n",
    "Let's have a look at any outliers, where the bias is 100% or more."
   ]
  },
  {
   "cell_type": "code",
   "execution_count": null,
   "metadata": {},
   "outputs": [],
   "source": [
    "eqa_calculated[abs(eqa_calculated['% Bias']) >= 100]"
   ]
  },
  {
   "cell_type": "markdown",
   "metadata": {},
   "source": [
    "Exclude these outliers"
   ]
  },
  {
   "cell_type": "code",
   "execution_count": null,
   "metadata": {},
   "outputs": [],
   "source": [
    "eqa_calculated = eqa_calculated[abs(eqa_calculated['% Bias']) < 100]"
   ]
  },
  {
   "cell_type": "markdown",
   "metadata": {},
   "source": [
    "### Merge data with assay names and measurands\n",
    "\n",
    "Merge the data with the mappings file, since the EQA schemes don't correspond with the assay names."
   ]
  },
  {
   "cell_type": "code",
   "execution_count": null,
   "metadata": {},
   "outputs": [],
   "source": [
    "eqa_data = mappings.merge(right=eqa_calculated,on=['Scheme name','EQA analyte name'],how='outer')"
   ]
  },
  {
   "cell_type": "markdown",
   "metadata": {},
   "source": [
    "## Plot bias against target value"
   ]
  },
  {
   "cell_type": "markdown",
   "metadata": {},
   "source": [
    "Next plot the data to see if bias varies with target value. This can be done either individually, or for all assays in the EQA data.\n",
    "\n",
    "First plot for a single EQA scheme:"
   ]
  },
  {
   "cell_type": "code",
   "execution_count": null,
   "metadata": {},
   "outputs": [],
   "source": [
    "from functions import eqa_assay_bias_plot"
   ]
  },
  {
   "cell_type": "code",
   "execution_count": null,
   "metadata": {},
   "outputs": [],
   "source": [
    "#eqa_assay_bias_plot(eqa_data,'Amino acids (Plasma)')"
   ]
  },
  {
   "cell_type": "markdown",
   "metadata": {},
   "source": [
    "Next, plot for all assays in the eqa data"
   ]
  },
  {
   "cell_type": "code",
   "execution_count": null,
   "metadata": {},
   "outputs": [],
   "source": [
    "from functions import eqa_bias_multi_plot"
   ]
  },
  {
   "cell_type": "code",
   "execution_count": null,
   "metadata": {},
   "outputs": [],
   "source": [
    "#eqa_bias_multi_plot(eqa_data)"
   ]
  },
  {
   "cell_type": "markdown",
   "metadata": {},
   "source": [
    "## Calculate EQA summary statistics"
   ]
  },
  {
   "cell_type": "markdown",
   "metadata": {},
   "source": [
    "Now we can calculate aggregate statistics across all specimens and distributions. This assumes that the %bias is constant throughout the measurable range (may not be true, although the previous plots will give an indication of how valid this assumption is)."
   ]
  },
  {
   "cell_type": "code",
   "execution_count": null,
   "metadata": {},
   "outputs": [],
   "source": [
    "from functions import eqa_summary_statistics"
   ]
  },
  {
   "cell_type": "code",
   "execution_count": null,
   "metadata": {},
   "outputs": [],
   "source": [
    "eqa_data.head()"
   ]
  },
  {
   "cell_type": "code",
   "execution_count": null,
   "metadata": {},
   "outputs": [],
   "source": [
    "def eqa_summary_statistics(df,assay):\n",
    "    '''\n",
    "    Display a table showing the mean bias, standard deviation of the bias, average % uncertainty in the target value,\n",
    "    combined uncertainty of the mean % bias and expanded uncertainty of % bias (using a coverage factor of 2)\n",
    "    for the specified assay\n",
    "    '''\n",
    "    eqa_summary = df[df['Assay'] == assay]\n",
    "    eqa_summary = eqa_summary.groupby('Measurand').agg({'Specimen':'count','Targ':['min','max'],'% Bias':['mean','std'],'% uncertainty in target value':'mean'})\n",
    "    \n",
    "    ## Function used to combined uncertainties\n",
    "    def combined_uncertainty(std,target_value_uncert):\n",
    "        return np.sqrt(std**2 + target_value_uncert**2)\n",
    "    \n",
    "    ## Combine standard deviation of bias with average uncertainty in the target value\n",
    "    eqa_summary['Combined uncertainty of % bias'] = eqa_summary.apply(lambda x: combined_uncertainty(x[('% Bias','std')],x[('% uncertainty in target value', 'mean')]), axis = 1)\n",
    "    \n",
    "    ## Calculate expanded uncertainty in the bias estimate (using coverage factor k=2)\n",
    "    eqa_summary['Expanded uncertainty of % bias'] = eqa_summary['Combined uncertainty of % bias'].apply(lambda x: x*2)\n",
    "\n",
    "    ## Merge with all measurands and sort\n",
    "    mappings = pd.read_csv(\"data\\\\raw_data\\\\mappings.csv\")\n",
    "    all_measurands = mappings[mappings['Assay'] == assay]\n",
    "    all_measurands = all_measurands.reset_index()[['Measurand','Order']]\n",
    "    \n",
    "    eqa_summary = eqa_summary.merge(right=all_measurands,on='Measurand',how='outer')\n",
    "    eqa_summary = eqa_summary.sort_values(by='Order', ignore_index=True)\n",
    "    eqa_summary = eqa_summary.drop(columns='Order')   \n",
    "\n",
    "    ## some jiggery pokery to get the multindex back\n",
    "    eqa_summary = eqa_summary.set_index('Measurand')\n",
    "    eqa_summary.columns = pd.MultiIndex.from_tuples(eqa_summary.columns)\n",
    "    \n",
    "    ## Fill blanks\n",
    "    eqa_summary = eqa_summary.fillna('')\n",
    "    \n",
    "    return round(eqa_summary,1)\n"
   ]
  },
  {
   "cell_type": "code",
   "execution_count": null,
   "metadata": {},
   "outputs": [],
   "source": [
    "eqa_stats = eqa_summary_statistics(eqa_data,'Newborn screening for inherited metabolic disorders')\n",
    "eqa_stats"
   ]
  },
  {
   "cell_type": "markdown",
   "metadata": {},
   "source": [
    "If there is no quantitative EQA scheme (like for acylcarnitines), the table will be blank"
   ]
  },
  {
   "cell_type": "code",
   "execution_count": null,
   "metadata": {},
   "outputs": [],
   "source": [
    "eqa_stats = eqa_summary_statistics(eqa_data,'Acylcarnitines (Blood spot)')\n",
    "eqa_stats"
   ]
  },
  {
   "cell_type": "markdown",
   "metadata": {},
   "source": [
    "We can export the data for all assays as seperate .csv files which are saved in the \\data\\processed\\eqa_summary_tables folder"
   ]
  },
  {
   "cell_type": "code",
   "execution_count": null,
   "metadata": {},
   "outputs": [],
   "source": [
    "from functions import assay_eqa_data_export"
   ]
  },
  {
   "cell_type": "code",
   "execution_count": null,
   "metadata": {},
   "outputs": [],
   "source": [
    "assay_eqa_data_export(eqa_data)"
   ]
  },
  {
   "cell_type": "markdown",
   "metadata": {},
   "source": [
    "# Performance targets"
   ]
  },
  {
   "cell_type": "markdown",
   "metadata": {},
   "source": [
    "Performance targets for each measurand are detailed in **ADD.BIO 6378**: *BGU Quality Monitoring Processes (Appendix 4)*\n",
    "\n",
    "Import the performance targets, rename the columns and round to one decimal place."
   ]
  },
  {
   "cell_type": "code",
   "execution_count": null,
   "metadata": {},
   "outputs": [],
   "source": [
    "from functions import load_performance_targets"
   ]
  },
  {
   "cell_type": "code",
   "execution_count": null,
   "metadata": {
    "scrolled": true
   },
   "outputs": [],
   "source": [
    "performance_targets = load_performance_targets('data//raw_data/performance_targets_january_2021.xlsx')\n",
    "performance_targets.head()"
   ]
  },
  {
   "cell_type": "markdown",
   "metadata": {},
   "source": [
    "Performance against imprecision, bias and total allowable error is assessed against three targets:\n",
    "* Optimal\n",
    "* Desirable\n",
    "* Minimal"
   ]
  },
  {
   "cell_type": "code",
   "execution_count": null,
   "metadata": {},
   "outputs": [],
   "source": [
    "from functions import performance_table"
   ]
  },
  {
   "cell_type": "code",
   "execution_count": null,
   "metadata": {},
   "outputs": [],
   "source": [
    "def performance_table(qc_data, eqa_data, assay, count_thresh, targets):\n",
    "    '''\n",
    "    Create table summarising imprecision, bias and total error performance against\n",
    "    performance targets\n",
    "    '''\n",
    "    ### Load imprecision data\n",
    "    imprec = qc_aggregated(qc_data,assay,count_thresh)\n",
    "    \n",
    "    # Select only the % CV column and measurand name\n",
    "    imprec = imprec.reset_index()[['Measurand','% CV']]\n",
    "    \n",
    "    ### Load bias data\n",
    "    bias = eqa_summary_statistics(eqa_data,assay)\n",
    "    \n",
    "    # Select only the % Bias column and measurand name\n",
    "    bias.columns = bias.columns.get_level_values(0)\n",
    "    bias = bias.reset_index()[['Measurand','Combined uncertainty of % bias']]\n",
    "    bias = bias.rename(columns={'Combined uncertainty of % bias':'% Bias'})\n",
    "    \n",
    "    ### Merge imprecision and bias data\n",
    "    df = imprec.merge(right=bias,on='Measurand',how='outer')\n",
    "    df[['% CV','% Bias']] = df[['% CV','% Bias']].apply(pd.to_numeric, errors='ignore')\n",
    "    \n",
    "    ### Calculate total error\n",
    "    def total_error(cv,bias):\n",
    "        return round(abs(bias) + 1.65*cv,1)\n",
    "    \n",
    "    df['Total error'] = df.apply(lambda x: total_error(x['% CV'],x['% Bias']),axis=1)\n",
    "    \n",
    "    ### Merge with performance targets\n",
    "    targets = targets[targets['Assay'] == assay]\n",
    "    df = df.merge(right=targets,on='Measurand',how='outer')\n",
    "    #df = df.fillna('')\n",
    "    \n",
    "    ### Calculate performance against performance targets\n",
    "    def performance(value, optimal, desirable, minimal):\n",
    "        if value < optimal:\n",
    "            return \"Optimal\"\n",
    "        elif value < desirable:\n",
    "            return \"Desirable\"\n",
    "        elif value < minimal:\n",
    "            return \"Minimal\"\n",
    "        else:\n",
    "            return \"Not met\"\n",
    "    \n",
    "    df['CV performance'] = df.apply(lambda x: performance(x['% CV'],x['Anal CV Optimal'],x['Anal CV Desirable'],x['Anal CV Minimal']), axis = 1)\n",
    "    df['Bias performance'] = df.apply(lambda x: performance(x['% Bias'],x['Bias Optimal'],x['Bias Desirable'],x['Bias Minimal']), axis = 1)\n",
    "    df['TAE performance'] = df.apply(lambda x: performance(x['Total error'],x['TE Optimal'],x['TE Desirable'],x['TE Minimal']), axis = 1)\n",
    "    \n",
    "    ## Select only required columns\n",
    "    df = df[['Measurand','% CV','CV performance','% Bias','Bias performance','Total error','TAE performance']]\n",
    "    df = df.set_index('Measurand')\n",
    "    df[['% CV','% Bias','Total error']] = df[['% CV','% Bias','Total error']].fillna('')\n",
    "    \n",
    "    return df"
   ]
  },
  {
   "cell_type": "code",
   "execution_count": null,
   "metadata": {},
   "outputs": [],
   "source": [
    "performance_table(qc_data, eqa_data, 'Acylcarnitines (Blood spot)', 10, performance_targets)"
   ]
  },
  {
   "cell_type": "code",
   "execution_count": null,
   "metadata": {},
   "outputs": [],
   "source": [
    "performance_table(qc_data, eqa_data, 'Amino acids (Plasma)', 10, performance_targets)"
   ]
  },
  {
   "cell_type": "code",
   "execution_count": null,
   "metadata": {},
   "outputs": [],
   "source": [
    "def assay_performance_data_export(qc_data, eqa_data, count_thresh, targets):\n",
    "    '''\n",
    "    Createsa a performance summary table for each assay.\n",
    "    \n",
    "    Exports each table to a .csv file in the processed data folder\n",
    "    '''\n",
    "    for assay in qc_data['Assay'].unique():\n",
    "        try:\n",
    "            filepath = os.path.abspath('') + '\\\\data\\\\processed\\\\performance_summary_tables\\\\' + assay + '.csv'\n",
    "            table =  performance_table(qc_data, eqa_data, assay, count_thresh, targets)\n",
    "            table.to_csv(filepath)\n",
    "            print(f'{assay} succesfully exported')\n",
    "        except:\n",
    "            print(f'!!! Error in exporting data for {assay}')"
   ]
  },
  {
   "cell_type": "code",
   "execution_count": null,
   "metadata": {},
   "outputs": [],
   "source": [
    "assay_performance_data_export(qc_data, eqa_data, 10, performance_targets)"
   ]
  },
  {
   "cell_type": "code",
   "execution_count": null,
   "metadata": {},
   "outputs": [],
   "source": []
  }
 ],
 "metadata": {
  "kernelspec": {
   "display_name": "Python 3",
   "language": "python",
   "name": "python3"
  },
  "language_info": {
   "codemirror_mode": {
    "name": "ipython",
    "version": 3
   },
   "file_extension": ".py",
   "mimetype": "text/x-python",
   "name": "python",
   "nbconvert_exporter": "python",
   "pygments_lexer": "ipython3",
   "version": "3.8.5"
  }
 },
 "nbformat": 4,
 "nbformat_minor": 4
}
